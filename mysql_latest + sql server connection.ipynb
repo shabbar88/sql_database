{
 "cells": [
  {
   "cell_type": "code",
   "execution_count": 2,
   "id": "87406c58",
   "metadata": {},
   "outputs": [
    {
     "name": "stdout",
     "output_type": "stream",
     "text": [
      "('bus_booking_system',)\n",
      "('cinema_booking_system',)\n",
      "('coffee_store',)\n",
      "('human',)\n",
      "('information_schema',)\n",
      "('mysql',)\n",
      "('performance_schema',)\n",
      "('python_learner',)\n",
      "('rebel',)\n",
      "('sys',)\n"
     ]
    }
   ],
   "source": [
    "#this is for connecting mysql with python\n",
    "import mysql.connector\n",
    "\n",
    "mydb=mysql.connector.connect(host=\"localhost\",user=\"root\",passwd=\"0124ec081116\")\n",
    "mycursor=mydb.cursor()\n",
    "mycursor.execute(\"show databases\")\n",
    "for i in mycursor:\n",
    "\tprint(i)"
   ]
  },
  {
   "cell_type": "code",
   "execution_count": 4,
   "id": "cc77d11e",
   "metadata": {},
   "outputs": [
    {
     "name": "stdout",
     "output_type": "stream",
     "text": [
      "Database error...........................\n"
     ]
    }
   ],
   "source": [
    "#this is for connecting mysql with python\n",
    "import mysql.connector\n",
    "\n",
    "mydb=mysql.connector.connect(host=\"localhost\",user=\"root\",passwd=\"0124ec081116\")\n",
    "mycursor=mydb.cursor()\n",
    "try:\n",
    "    db=\"create database School\"\n",
    "    mycursor.execute(db)\n",
    "    print(\"Database created........................\")\n",
    "    \n",
    "    \n",
    "    \n",
    "except:\n",
    "    print(\"Database error...........................\")\n",
    "    "
   ]
  },
  {
   "cell_type": "code",
   "execution_count": 4,
   "id": "81a48158",
   "metadata": {},
   "outputs": [],
   "source": [
    "#this is for connecting mysql with python\n",
    "import mysql.connector\n",
    "\n",
    "mydb=mysql.connector.connect(host=\"localhost\",user=\"root\",passwd=\"0124ec081116\",database=\"School\")\n",
    "mycursor=mydb.cursor()\n",
    "#create table \n",
    "#Table Student(st_id, st_name,st_class,st_email)\n",
    "tc=\"\"\"CREATE TABLE Students(\n",
    "st_id INT NOT NULL PRIMARY KEY AUTO_INCREMENT,\n",
    "st_name VARCHAR(255) NOT NULL,\n",
    "st_class VARCHAR(255) NOT NULL,\n",
    "st_email VARCHAR(255) NOT NULL);\"\"\"\n",
    "\n",
    "mycursor.execute(tc)"
   ]
  },
  {
   "cell_type": "code",
   "execution_count": 3,
   "id": "b537a642",
   "metadata": {},
   "outputs": [],
   "source": [
    "#this is for connecting mysql with python\n",
    "import mysql.connector\n",
    "\n",
    "mydb=mysql.connector.connect(host=\"localhost\",user=\"root\",passwd=\"0124ec081116\",database=\"School\")\n",
    "mycursor=mydb.cursor()\n",
    "#inserting into Students............................................\n",
    "inserting=\"\"\"\n",
    "INSERT INTO Students(st_name,st_class,st_email)\n",
    "VALUES(%S,%S,%S);\n",
    "\"\"\"\n",
    "#t=('kamran','10','kamran@gmail')\n",
    "#mycursor.execute(inserting,t)\n",
    "\n",
    "\n",
    "sql_statement = \"INSERT INTO Students (st_name,st_class,st_email) values(%s,%s,%s)\"\n",
    "val = [(\"Saram\",\"10\",\"saram@gmail\"),('zeetu',12,\"zeetu@gmail\"),(\"Tanweer\",\"9\",\"tanweer@gmail\")]\n",
    "mycursor.executemany(sql_statement,val)\n",
    "mydb.commit()"
   ]
  },
  {
   "cell_type": "code",
   "execution_count": 40,
   "id": "cee07b7c",
   "metadata": {},
   "outputs": [
    {
     "name": "stdout",
     "output_type": "stream",
     "text": [
      "Student_Id \t Student_Name \t Student_Class \t Student_Email\n",
      "1 \t \t Shyam \t \t 10 \t \t shyam@gmail\n",
      "2 \t \t zeeshan \t \t 12 \t \t zeeshan@gmail\n",
      "3 \t \t Saram \t \t 10 \t \t saram@gmail\n",
      "4 \t \t zeetu \t \t 12 \t \t zeetu@gmail\n",
      "5 \t \t Tanweer \t \t 9 \t \t tanweer@gmail\n"
     ]
    }
   ],
   "source": [
    "#this is for connecting mysql with python\n",
    "import mysql.connector\n",
    "\n",
    "mydb=mysql.connector.connect(host=\"localhost\",user=\"root\",passwd=\"0124ec081116\",database=\"School\")\n",
    "mycursor=mydb.cursor()\n",
    "\n",
    "\n",
    "print(\"Student_Id\",\"\\t\",\"Student_Name\",\"\\t\",\"Student_Class\", \"\\t\",\"Student_Email\")\n",
    "try:\n",
    "    sql=\"select *FROM Students\"\n",
    "    mycursor.execute(sql)\n",
    "    \n",
    "    myresult=mycursor.fetchall()\n",
    "    for x in myresult:\n",
    "        print((x[0]),\"\\t\",\"\\t\",x[1],\"\\t\",\"\\t\",x[2],\"\\t\",\"\\t\",x[3])\n",
    "except:\n",
    "    print(\"error.....................................................\")"
   ]
  },
  {
   "cell_type": "code",
   "execution_count": 46,
   "id": "358d8ef5",
   "metadata": {},
   "outputs": [
    {
     "name": "stdout",
     "output_type": "stream",
     "text": [
      "Student_Id      Student_Name        \n",
      "1                     Shyam        \n"
     ]
    }
   ],
   "source": [
    "#this is for connecting mysql with python\n",
    "import mysql.connector\n",
    "\n",
    "mydb=mysql.connector.connect(host=\"localhost\",user=\"root\",passwd=\"0124ec081116\",database=\"School\")\n",
    "mycursor=mydb.cursor()\n",
    "print(\"{:<15} {:<20}\".format(\"Student_Id\",\"Student_Name\"))\n",
    "try:\n",
    "    sql=\"select st_id,st_name from Students\"\n",
    "    mycursor.execute(sql)\n",
    "    # this gonna fetch only one row\n",
    "    sdata=mycursor.fetchone()\n",
    "    print(\"{:<15}{:^20}\".format(sdata[0],sdata[1]))\n",
    "\n",
    "except:\n",
    "    print(\"error....................................\")"
   ]
  },
  {
   "cell_type": "code",
   "execution_count": 8,
   "id": "0df6071b",
   "metadata": {},
   "outputs": [
    {
     "name": "stdout",
     "output_type": "stream",
     "text": [
      "Enter id to delete..2\n",
      "error...............................\n"
     ]
    }
   ],
   "source": [
    "#deleting from database\n",
    "#this is for connecting mysql with python\n",
    "import mysql.connector\n",
    "\n",
    "mydb=mysql.connector.connect(host=\"localhost\",user=\"root\",passwd=\"0124ec081116\",database=\"School\")\n",
    "mycursor=mydb.cursor()\n",
    "your_id=int(input(\"Enter id to delete..\"))\n",
    "sql=\"Delete from Students WHERE st_id = %d \"\n",
    "try:\n",
    "    mycursor.execute(sql,our_id)\n",
    "    mydb.commit()\n",
    "    print(\"Student data details deleted succesfully!!!\")\n",
    "except:\n",
    "    print(\"error...............................\")"
   ]
  },
  {
   "cell_type": "code",
   "execution_count": 1,
   "id": "9862cfd3",
   "metadata": {},
   "outputs": [],
   "source": [
    "import pyodbc"
   ]
  },
  {
   "cell_type": "code",
   "execution_count": 8,
   "id": "f4e03db3",
   "metadata": {},
   "outputs": [
    {
     "name": "stdout",
     "output_type": "stream",
     "text": [
      "<pypyodbc.Connection object at 0x000002E32C6D1850>\n",
      "(1, 'afridi', 8000, 400)\n",
      "(2, 'sachin', 25000, 200)\n",
      "(3, 'jayasuriya', 16000, 300)\n"
     ]
    }
   ],
   "source": [
    "\n",
    "import pypyodbc as odbc\n",
    "DRIVER_NAME='SQL SERVER'\n",
    "SERVER_NAME='TAUQUIR\\\\UNLEASHED'\n",
    "DATABASE_NAME='player'\n",
    "connection_string=f\"\"\"\n",
    "DRIVER={{{DRIVER_NAME}}};\n",
    "SERVER={SERVER_NAME};\n",
    "DATABASE={DATABASE_NAME};\n",
    "Trust_Connection=yes\n",
    "\"\"\"\n",
    "conn=odbc.connect(connection_string)\n",
    "print(conn)\n",
    "\n",
    "cursor = conn.cursor()\n",
    "cursor.execute('SELECT * FROM player_stats')\n",
    "\n",
    "for i in cursor:\n",
    "    print(i)"
   ]
  },
  {
   "cell_type": "code",
   "execution_count": null,
   "id": "a284e734",
   "metadata": {},
   "outputs": [],
   "source": []
  }
 ],
 "metadata": {
  "kernelspec": {
   "display_name": "Python 3 (ipykernel)",
   "language": "python",
   "name": "python3"
  },
  "language_info": {
   "codemirror_mode": {
    "name": "ipython",
    "version": 3
   },
   "file_extension": ".py",
   "mimetype": "text/x-python",
   "name": "python",
   "nbconvert_exporter": "python",
   "pygments_lexer": "ipython3",
   "version": "3.9.12"
  }
 },
 "nbformat": 4,
 "nbformat_minor": 5
}
